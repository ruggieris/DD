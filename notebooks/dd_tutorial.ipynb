{
 "cells": [
  {
   "cell_type": "markdown",
   "metadata": {},
   "source": [
    "<span>\n",
    "<b>Author:</b> <a href=\"http://pages.di.unipi.it/ruggieri/\">Salvatore Ruggieri</a><br/>\n",
    "<b>Python version:</b>  3.x<br/>\n",
    "</span>"
   ]
  },
  {
   "cell_type": "code",
   "execution_count": 4,
   "metadata": {},
   "outputs": [
    {
     "name": "stderr",
     "output_type": "stream",
     "text": [
      "[autoreload of tornado.locks failed: Traceback (most recent call last):\n",
      "  File \"D:\\FILES\\anaconda3\\lib\\site-packages\\IPython\\extensions\\autoreload.py\", line 261, in check\n",
      "  File \"D:\\FILES\\anaconda3\\lib\\site-packages\\IPython\\extensions\\autoreload.py\", line 484, in superreload\n",
      "  File \"D:\\FILES\\anaconda3\\lib\\site-packages\\IPython\\extensions\\autoreload.py\", line 381, in update_generic\n",
      "  File \"D:\\FILES\\anaconda3\\lib\\site-packages\\IPython\\extensions\\autoreload.py\", line 333, in update_class\n",
      "  File \"D:\\FILES\\anaconda3\\lib\\site-packages\\IPython\\extensions\\autoreload.py\", line 381, in update_generic\n",
      "  File \"D:\\FILES\\anaconda3\\lib\\site-packages\\IPython\\extensions\\autoreload.py\", line 293, in update_function\n",
      "ValueError: __init__() requires a code object with 1 free vars, not 0\n",
      "]\n"
     ]
    },
    {
     "name": "stdout",
     "output_type": "stream",
     "text": [
      "Working dir:  ../\n"
     ]
    }
   ],
   "source": [
    "try:\n",
    "    # if using Colab\n",
    "    import google.colab\n",
    "    is_colab = True\n",
    "    wdir = 'https://raw.githubusercontent.com/ruggieris/DD/main/'\n",
    "    # create folder src if it does not exists\n",
    "    !mkdir -p src\n",
    "    # download source\n",
    "    !wget --no-cache --backups=1 -O src/dd.py {wdir}'src/dd.py'\n",
    "except:\n",
    "    is_colab = False\n",
    "    wdir = '../' # local files\n",
    "print('Working dir: ', wdir)"
   ]
  },
  {
   "cell_type": "code",
   "execution_count": 5,
   "metadata": {
    "scrolled": true
   },
   "outputs": [],
   "source": [
    "# required modules (under Anaconda use: > conda install -c conda-forge <package>)\n",
    "if is_colab:\n",
    "    !pip install pyroaring\n",
    "    !pip install pyfim \n",
    "    !pip install lightgbm\n",
    "    !pip install fairlearn"
   ]
  },
  {
   "cell_type": "code",
   "execution_count": null,
   "metadata": {
    "scrolled": true
   },
   "outputs": [
    {
     "name": "stderr",
     "output_type": "stream",
     "text": [
      "[autoreload of numpy.core.overrides failed: Traceback (most recent call last):\n",
      "  File \"D:\\FILES\\anaconda3\\lib\\site-packages\\IPython\\extensions\\autoreload.py\", line 261, in check\n",
      "  File \"D:\\FILES\\anaconda3\\lib\\site-packages\\IPython\\extensions\\autoreload.py\", line 459, in superreload\n",
      "  File \"D:\\FILES\\anaconda3\\lib\\importlib\\__init__.py\", line 169, in reload\n",
      "    _bootstrap._exec(spec, module)\n",
      "  File \"<frozen importlib._bootstrap>\", line 619, in _exec\n",
      "  File \"<frozen importlib._bootstrap_external>\", line 883, in exec_module\n",
      "  File \"<frozen importlib._bootstrap>\", line 241, in _call_with_frames_removed\n",
      "  File \"D:\\FILES\\anaconda3\\lib\\site-packages\\numpy\\core\\overrides.py\", line 8, in <module>\n",
      "    from numpy.core._multiarray_umath import (\n",
      "ImportError: cannot import name '_ArrayFunctionDispatcher' from 'numpy.core._multiarray_umath' (D:\\FILES\\anaconda3\\lib\\site-packages\\numpy\\core\\_multiarray_umath.cp310-win_amd64.pyd)\n",
      "]\n",
      "[autoreload of numpy.core.multiarray failed: Traceback (most recent call last):\n",
      "  File \"D:\\FILES\\anaconda3\\lib\\site-packages\\IPython\\extensions\\autoreload.py\", line 261, in check\n",
      "  File \"D:\\FILES\\anaconda3\\lib\\site-packages\\IPython\\extensions\\autoreload.py\", line 459, in superreload\n",
      "  File \"D:\\FILES\\anaconda3\\lib\\importlib\\__init__.py\", line 169, in reload\n",
      "    _bootstrap._exec(spec, module)\n",
      "  File \"<frozen importlib._bootstrap>\", line 619, in _exec\n",
      "  File \"<frozen importlib._bootstrap_external>\", line 883, in exec_module\n",
      "  File \"<frozen importlib._bootstrap>\", line 241, in _call_with_frames_removed\n",
      "  File \"D:\\FILES\\anaconda3\\lib\\site-packages\\numpy\\core\\multiarray.py\", line 16, in <module>\n",
      "    from ._multiarray_umath import (\n",
      "ImportError: cannot import name 'fastCopyAndTranspose' from 'numpy.core._multiarray_umath' (D:\\FILES\\anaconda3\\lib\\site-packages\\numpy\\core\\_multiarray_umath.cp310-win_amd64.pyd)\n",
      "]\n",
      "[autoreload of numpy.core._methods failed: Traceback (most recent call last):\n",
      "  File \"D:\\FILES\\anaconda3\\lib\\site-packages\\IPython\\extensions\\autoreload.py\", line 261, in check\n",
      "  File \"D:\\FILES\\anaconda3\\lib\\site-packages\\IPython\\extensions\\autoreload.py\", line 459, in superreload\n",
      "  File \"D:\\FILES\\anaconda3\\lib\\importlib\\__init__.py\", line 169, in reload\n",
      "    _bootstrap._exec(spec, module)\n",
      "  File \"<frozen importlib._bootstrap>\", line 619, in _exec\n",
      "  File \"<frozen importlib._bootstrap_external>\", line 883, in exec_module\n",
      "  File \"<frozen importlib._bootstrap>\", line 241, in _call_with_frames_removed\n",
      "  File \"D:\\FILES\\anaconda3\\lib\\site-packages\\numpy\\core\\_methods.py\", line 14, in <module>\n",
      "    from numpy.core._ufunc_config import _no_nep50_warning\n",
      "ImportError: cannot import name '_no_nep50_warning' from 'numpy.core._ufunc_config' (D:\\FILES\\anaconda3\\lib\\site-packages\\numpy\\core\\_ufunc_config.py)\n",
      "]\n",
      "[autoreload of numpy.core._asarray failed: Traceback (most recent call last):\n",
      "  File \"D:\\FILES\\anaconda3\\lib\\site-packages\\IPython\\extensions\\autoreload.py\", line 261, in check\n",
      "  File \"D:\\FILES\\anaconda3\\lib\\site-packages\\IPython\\extensions\\autoreload.py\", line 459, in superreload\n",
      "  File \"D:\\FILES\\anaconda3\\lib\\importlib\\__init__.py\", line 169, in reload\n",
      "    _bootstrap._exec(spec, module)\n",
      "  File \"<frozen importlib._bootstrap>\", line 619, in _exec\n",
      "  File \"<frozen importlib._bootstrap_external>\", line 883, in exec_module\n",
      "  File \"<frozen importlib._bootstrap>\", line 241, in _call_with_frames_removed\n",
      "  File \"D:\\FILES\\anaconda3\\lib\\site-packages\\numpy\\core\\_asarray.py\", line 134, in <module>\n",
      "    _require_with_like = array_function_dispatch()(require)\n",
      "TypeError: array_function_dispatch() missing 1 required positional argument: 'dispatcher'\n",
      "]\n",
      "[autoreload of numpy.core.numeric failed: Traceback (most recent call last):\n",
      "  File \"D:\\FILES\\anaconda3\\lib\\site-packages\\IPython\\extensions\\autoreload.py\", line 261, in check\n",
      "  File \"D:\\FILES\\anaconda3\\lib\\site-packages\\IPython\\extensions\\autoreload.py\", line 459, in superreload\n",
      "  File \"D:\\FILES\\anaconda3\\lib\\importlib\\__init__.py\", line 169, in reload\n",
      "    _bootstrap._exec(spec, module)\n",
      "  File \"<frozen importlib._bootstrap>\", line 619, in _exec\n",
      "  File \"<frozen importlib._bootstrap_external>\", line 883, in exec_module\n",
      "  File \"<frozen importlib._bootstrap>\", line 241, in _call_with_frames_removed\n",
      "  File \"D:\\FILES\\anaconda3\\lib\\site-packages\\numpy\\core\\numeric.py\", line 11, in <module>\n",
      "    from .multiarray import (\n",
      "ImportError: cannot import name 'fastCopyAndTranspose' from 'numpy.core.multiarray' (D:\\FILES\\anaconda3\\lib\\site-packages\\numpy\\core\\multiarray.py)\n",
      "]\n",
      "[autoreload of numpy.core._add_newdocs failed: Traceback (most recent call last):\n",
      "  File \"D:\\FILES\\anaconda3\\lib\\site-packages\\IPython\\extensions\\autoreload.py\", line 261, in check\n",
      "  File \"D:\\FILES\\anaconda3\\lib\\site-packages\\IPython\\extensions\\autoreload.py\", line 459, in superreload\n",
      "  File \"D:\\FILES\\anaconda3\\lib\\importlib\\__init__.py\", line 169, in reload\n",
      "    _bootstrap._exec(spec, module)\n",
      "  File \"<frozen importlib._bootstrap>\", line 619, in _exec\n",
      "  File \"<frozen importlib._bootstrap_external>\", line 883, in exec_module\n",
      "  File \"<frozen importlib._bootstrap>\", line 241, in _call_with_frames_removed\n",
      "  File \"D:\\FILES\\anaconda3\\lib\\site-packages\\numpy\\core\\_add_newdocs.py\", line 5700, in <module>\n",
      "    add_newdoc('numpy.core', 'ufunc', ('resolve_dtypes',\n",
      "  File \"D:\\FILES\\anaconda3\\lib\\site-packages\\numpy\\core\\function_base.py\", line 548, in add_newdoc\n",
      "    _add_docstring(getattr(new, attr), docstring.strip(), warn_on_python)\n",
      "AttributeError: type object 'numpy.ufunc' has no attribute 'resolve_dtypes'\n",
      "]\n",
      "[autoreload of numpy.lib.ufunclike failed: Traceback (most recent call last):\n",
      "  File \"D:\\FILES\\anaconda3\\lib\\site-packages\\IPython\\extensions\\autoreload.py\", line 261, in check\n",
      "  File \"D:\\FILES\\anaconda3\\lib\\site-packages\\IPython\\extensions\\autoreload.py\", line 484, in superreload\n",
      "  File \"D:\\FILES\\anaconda3\\lib\\site-packages\\IPython\\extensions\\autoreload.py\", line 381, in update_generic\n",
      "  File \"D:\\FILES\\anaconda3\\lib\\site-packages\\IPython\\extensions\\autoreload.py\", line 293, in update_function\n",
      "ValueError: _dispatcher() requires a code object with 1 free vars, not 0\n",
      "]\n",
      "[autoreload of numpy.lib.twodim_base failed: Traceback (most recent call last):\n",
      "  File \"D:\\FILES\\anaconda3\\lib\\site-packages\\IPython\\extensions\\autoreload.py\", line 261, in check\n",
      "  File \"D:\\FILES\\anaconda3\\lib\\site-packages\\IPython\\extensions\\autoreload.py\", line 459, in superreload\n",
      "  File \"D:\\FILES\\anaconda3\\lib\\importlib\\__init__.py\", line 169, in reload\n",
      "    _bootstrap._exec(spec, module)\n",
      "  File \"<frozen importlib._bootstrap>\", line 619, in _exec\n",
      "  File \"<frozen importlib._bootstrap_external>\", line 883, in exec_module\n",
      "  File \"<frozen importlib._bootstrap>\", line 241, in _call_with_frames_removed\n",
      "  File \"D:\\FILES\\anaconda3\\lib\\site-packages\\numpy\\lib\\twodim_base.py\", line 227, in <module>\n",
      "    _eye_with_like = array_function_dispatch()(eye)\n",
      "TypeError: array_function_dispatch() missing 1 required positional argument: 'dispatcher'\n",
      "]\n",
      "[autoreload of numpy.linalg.linalg failed: Traceback (most recent call last):\n",
      "  File \"D:\\FILES\\anaconda3\\lib\\site-packages\\IPython\\extensions\\autoreload.py\", line 261, in check\n",
      "  File \"D:\\FILES\\anaconda3\\lib\\site-packages\\IPython\\extensions\\autoreload.py\", line 459, in superreload\n",
      "  File \"D:\\FILES\\anaconda3\\lib\\importlib\\__init__.py\", line 169, in reload\n",
      "    _bootstrap._exec(spec, module)\n",
      "  File \"<frozen importlib._bootstrap>\", line 619, in _exec\n",
      "  File \"<frozen importlib._bootstrap_external>\", line 883, in exec_module\n",
      "  File \"<frozen importlib._bootstrap>\", line 241, in _call_with_frames_removed\n",
      "  File \"D:\\FILES\\anaconda3\\lib\\site-packages\\numpy\\linalg\\linalg.py\", line 108, in <module>\n",
      "    _linalg_error_extobj = _determine_error_states()\n",
      "  File \"D:\\FILES\\anaconda3\\lib\\site-packages\\numpy\\linalg\\linalg.py\", line 101, in _determine_error_states\n",
      "    with errstate(invalid='call', over='ignore',\n",
      "  File \"D:\\FILES\\anaconda3\\lib\\site-packages\\numpy\\core\\_ufunc_config.py\", line 432, in __enter__\n",
      "    if self.call is not _Unspecified:\n",
      "  File \"D:\\FILES\\anaconda3\\lib\\site-packages\\numpy\\core\\_ufunc_config.py\", line 306, in seterrcall\n",
      "    raise ValueError(\"Only callable can be used as callback\")\n",
      "ValueError: Only callable can be used as callback\n",
      "]\n",
      "[autoreload of numpy.lib.function_base failed: Traceback (most recent call last):\n",
      "  File \"D:\\FILES\\anaconda3\\lib\\site-packages\\IPython\\extensions\\autoreload.py\", line 261, in check\n",
      "  File \"D:\\FILES\\anaconda3\\lib\\site-packages\\IPython\\extensions\\autoreload.py\", line 459, in superreload\n",
      "  File \"D:\\FILES\\anaconda3\\lib\\importlib\\__init__.py\", line 169, in reload\n",
      "    _bootstrap._exec(spec, module)\n",
      "  File \"<frozen importlib._bootstrap>\", line 619, in _exec\n",
      "  File \"<frozen importlib._bootstrap_external>\", line 883, in exec_module\n",
      "  File \"<frozen importlib._bootstrap>\", line 241, in _call_with_frames_removed\n",
      "  File \"D:\\FILES\\anaconda3\\lib\\site-packages\\numpy\\lib\\function_base.py\", line 26, in <module>\n",
      "    from numpy.core.multiarray import (\n",
      "ImportError: cannot import name '_place' from 'numpy.core.multiarray' (D:\\FILES\\anaconda3\\lib\\site-packages\\numpy\\core\\multiarray.py)\n",
      "]\n"
     ]
    },
    {
     "name": "stderr",
     "output_type": "stream",
     "text": [
      "[autoreload of numpy.lib.npyio failed: Traceback (most recent call last):\n",
      "  File \"D:\\FILES\\anaconda3\\lib\\site-packages\\IPython\\extensions\\autoreload.py\", line 261, in check\n",
      "  File \"D:\\FILES\\anaconda3\\lib\\site-packages\\IPython\\extensions\\autoreload.py\", line 459, in superreload\n",
      "  File \"D:\\FILES\\anaconda3\\lib\\importlib\\__init__.py\", line 169, in reload\n",
      "    _bootstrap._exec(spec, module)\n",
      "  File \"<frozen importlib._bootstrap>\", line 619, in _exec\n",
      "  File \"<frozen importlib._bootstrap_external>\", line 883, in exec_module\n",
      "  File \"<frozen importlib._bootstrap>\", line 241, in _call_with_frames_removed\n",
      "  File \"D:\\FILES\\anaconda3\\lib\\site-packages\\numpy\\lib\\npyio.py\", line 1381, in <module>\n",
      "    _loadtxt_with_like = array_function_dispatch()(loadtxt)\n",
      "TypeError: array_function_dispatch() missing 1 required positional argument: 'dispatcher'\n",
      "]\n",
      "[autoreload of numpy.ma.core failed: Traceback (most recent call last):\n",
      "  File \"D:\\FILES\\anaconda3\\lib\\site-packages\\IPython\\extensions\\autoreload.py\", line 261, in check\n",
      "  File \"D:\\FILES\\anaconda3\\lib\\site-packages\\IPython\\extensions\\autoreload.py\", line 484, in superreload\n",
      "  File \"D:\\FILES\\anaconda3\\lib\\site-packages\\IPython\\extensions\\autoreload.py\", line 381, in update_generic\n",
      "  File \"D:\\FILES\\anaconda3\\lib\\site-packages\\IPython\\extensions\\autoreload.py\", line 333, in update_class\n",
      "  File \"D:\\FILES\\anaconda3\\lib\\site-packages\\IPython\\extensions\\autoreload.py\", line 381, in update_generic\n",
      "  File \"D:\\FILES\\anaconda3\\lib\\site-packages\\IPython\\extensions\\autoreload.py\", line 293, in update_function\n",
      "ValueError: __setitem__() requires a code object with 0 free vars, not 2\n",
      "]\n",
      "[autoreload of numpy failed: Traceback (most recent call last):\n",
      "  File \"D:\\FILES\\anaconda3\\lib\\site-packages\\IPython\\extensions\\autoreload.py\", line 261, in check\n",
      "  File \"D:\\FILES\\anaconda3\\lib\\site-packages\\IPython\\extensions\\autoreload.py\", line 459, in superreload\n",
      "  File \"D:\\FILES\\anaconda3\\lib\\importlib\\__init__.py\", line 169, in reload\n",
      "    _bootstrap._exec(spec, module)\n",
      "  File \"<frozen importlib._bootstrap>\", line 619, in _exec\n",
      "  File \"<frozen importlib._bootstrap_external>\", line 883, in exec_module\n",
      "  File \"<frozen importlib._bootstrap>\", line 241, in _call_with_frames_removed\n",
      "  File \"D:\\FILES\\anaconda3\\lib\\site-packages\\numpy\\__init__.py\", line 230, in <module>\n",
      "    core.getlimits._register_known_types()\n",
      "  File \"D:\\FILES\\anaconda3\\lib\\site-packages\\numpy\\core\\getlimits.py\", line 228, in _register_known_types\n",
      "    with numeric.errstate(all='ignore'):\n",
      "  File \"D:\\FILES\\anaconda3\\lib\\site-packages\\numpy\\core\\_ufunc_config.py\", line 432, in __enter__\n",
      "    if self.call is not _Unspecified:\n",
      "  File \"D:\\FILES\\anaconda3\\lib\\site-packages\\numpy\\core\\_ufunc_config.py\", line 306, in seterrcall\n",
      "    raise ValueError(\"Only callable can be used as callback\")\n",
      "ValueError: Only callable can be used as callback\n",
      "]\n",
      "[autoreload of pyparsing.exceptions failed: Traceback (most recent call last):\n",
      "  File \"D:\\FILES\\anaconda3\\lib\\site-packages\\IPython\\extensions\\autoreload.py\", line 261, in check\n",
      "  File \"D:\\FILES\\anaconda3\\lib\\site-packages\\IPython\\extensions\\autoreload.py\", line 484, in superreload\n",
      "  File \"D:\\FILES\\anaconda3\\lib\\site-packages\\IPython\\extensions\\autoreload.py\", line 381, in update_generic\n",
      "  File \"D:\\FILES\\anaconda3\\lib\\site-packages\\IPython\\extensions\\autoreload.py\", line 333, in update_class\n",
      "  File \"D:\\FILES\\anaconda3\\lib\\site-packages\\IPython\\extensions\\autoreload.py\", line 381, in update_generic\n",
      "  File \"D:\\FILES\\anaconda3\\lib\\site-packages\\IPython\\extensions\\autoreload.py\", line 293, in update_function\n",
      "ValueError: mark_input_line() requires a code object with 0 free vars, not 1\n",
      "]\n",
      "[autoreload of pyparsing.actions failed: Traceback (most recent call last):\n",
      "  File \"D:\\FILES\\anaconda3\\lib\\site-packages\\IPython\\extensions\\autoreload.py\", line 261, in check\n",
      "  File \"D:\\FILES\\anaconda3\\lib\\site-packages\\IPython\\extensions\\autoreload.py\", line 484, in superreload\n",
      "  File \"D:\\FILES\\anaconda3\\lib\\site-packages\\IPython\\extensions\\autoreload.py\", line 381, in update_generic\n",
      "  File \"D:\\FILES\\anaconda3\\lib\\site-packages\\IPython\\extensions\\autoreload.py\", line 293, in update_function\n",
      "ValueError: replace_with() requires a code object with 0 free vars, not 1\n",
      "]\n",
      "[autoreload of pyparsing.core failed: Traceback (most recent call last):\n",
      "  File \"D:\\FILES\\anaconda3\\lib\\site-packages\\IPython\\extensions\\autoreload.py\", line 261, in check\n",
      "  File \"D:\\FILES\\anaconda3\\lib\\site-packages\\IPython\\extensions\\autoreload.py\", line 484, in superreload\n",
      "  File \"D:\\FILES\\anaconda3\\lib\\site-packages\\IPython\\extensions\\autoreload.py\", line 381, in update_generic\n",
      "  File \"D:\\FILES\\anaconda3\\lib\\site-packages\\IPython\\extensions\\autoreload.py\", line 333, in update_class\n",
      "  File \"D:\\FILES\\anaconda3\\lib\\site-packages\\IPython\\extensions\\autoreload.py\", line 381, in update_generic\n",
      "  File \"D:\\FILES\\anaconda3\\lib\\site-packages\\IPython\\extensions\\autoreload.py\", line 293, in update_function\n",
      "ValueError: set_default_whitespace_chars() requires a code object with 0 free vars, not 1\n",
      "]\n",
      "[autoreload of pyparsing.helpers failed: Traceback (most recent call last):\n",
      "  File \"D:\\FILES\\anaconda3\\lib\\site-packages\\IPython\\extensions\\autoreload.py\", line 261, in check\n",
      "  File \"D:\\FILES\\anaconda3\\lib\\site-packages\\IPython\\extensions\\autoreload.py\", line 484, in superreload\n",
      "  File \"D:\\FILES\\anaconda3\\lib\\site-packages\\IPython\\extensions\\autoreload.py\", line 381, in update_generic\n",
      "  File \"D:\\FILES\\anaconda3\\lib\\site-packages\\IPython\\extensions\\autoreload.py\", line 293, in update_function\n",
      "ValueError: delimited_list() requires a code object with 0 free vars, not 1\n",
      "]\n",
      "[autoreload of matplotlib failed: Traceback (most recent call last):\n",
      "  File \"D:\\FILES\\anaconda3\\lib\\site-packages\\IPython\\extensions\\autoreload.py\", line 261, in check\n",
      "  File \"D:\\FILES\\anaconda3\\lib\\site-packages\\IPython\\extensions\\autoreload.py\", line 459, in superreload\n",
      "  File \"D:\\FILES\\anaconda3\\lib\\importlib\\__init__.py\", line 169, in reload\n",
      "    _bootstrap._exec(spec, module)\n",
      "  File \"<frozen importlib._bootstrap>\", line 619, in _exec\n",
      "  File \"<frozen importlib._bootstrap_external>\", line 883, in exec_module\n",
      "  File \"<frozen importlib._bootstrap>\", line 241, in _call_with_frames_removed\n",
      "  File \"D:\\FILES\\anaconda3\\lib\\site-packages\\matplotlib\\__init__.py\", line 117, in <module>\n",
      "    _delvewheel_init_patch_1_3_3()\n",
      "  File \"D:\\FILES\\anaconda3\\lib\\site-packages\\matplotlib\\__init__.py\", line 114, in _delvewheel_init_patch_1_3_3\n",
      "    os.add_dll_directory(libs_dir)\n",
      "  File \"D:\\FILES\\anaconda3\\lib\\os.py\", line 1118, in add_dll_directory\n",
      "    cookie = nt._add_dll_directory(path)\n",
      "FileNotFoundError: [WinError 2] The system cannot find the file specified: 'D:\\\\FILES\\\\anaconda3\\\\lib\\\\site-packages\\\\matplotlib.libs'\n",
      "]\n"
     ]
    }
   ],
   "source": [
    "%load_ext autoreload\n",
    "%autoreload 2\n",
    "%matplotlib inline\n",
    "\n",
    "import sys\n",
    "sys.path.append('src/' if is_colab else '../src/') # local path\n",
    "import dd\n",
    "import pandas as pd\n",
    "import numpy as np\n",
    "import seaborn as sns\n",
    "import matplotlib.pyplot as plt\n",
    "from sklearn.model_selection import train_test_split"
   ]
  },
  {
   "cell_type": "markdown",
   "metadata": {},
   "source": [
    "# Part I: independence metrics"
   ]
  },
  {
   "cell_type": "code",
   "execution_count": null,
   "metadata": {},
   "outputs": [],
   "source": [
    "# Sample data: credit.csv, adult.csv or any other dataset with discrete columns only.\n",
    "df = pd.read_csv(wdir+'data/credit_discrete.csv', sep=',', na_values='?')\n",
    "df.head()"
   ]
  },
  {
   "cell_type": "code",
   "execution_count": null,
   "metadata": {},
   "outputs": [],
   "source": [
    "# DD(filename or dataframe, unprotected item, negative decision)\n",
    "#disc = dd.DD(df, 'foreign_worker=no', 'class=bad')\n",
    "disc = dd.DD(df, unprotectedItem='age=from_41d4_le_52d6', predBadItem='class=bad')\n",
    "for ctg in disc.ctg_global():\n",
    "    disc.print(ctg)\n",
    "    print(\"RD = {:f}\".format(ctg.rd()))\n",
    "ctg = disc.ctg_any()\n",
    "disc.print(ctg)\n",
    "print(\"RD = {:f}\".format(ctg.rd()))"
   ]
  },
  {
   "cell_type": "code",
   "execution_count": null,
   "metadata": {},
   "outputs": [],
   "source": [
    "# filtering condition: return None to filter out, or measure value\n",
    "# contingency table ctg such that ctg.n() >= minSupp \n",
    "'''\n",
    "     contingency table for independence\n",
    "     =========== pred.pos === pred.neg === \n",
    "     protected       a            b       n1()\n",
    "     unprotected     c            d       n2()\n",
    "     ===========    m1()  ===    m2()  ==  n()\n",
    "'''\n",
    "def check_rd(ctg):\n",
    "    # at least 20 protected with pred.pos and p2() > 0\n",
    "    if ctg.a < 20 or ctg.c==0:\n",
    "        return None\n",
    "    return ctg.rd()\n",
    "\n",
    "def check_rr(ctg):\n",
    "    # at least 20 protected with pred.pos and p2() > 0\n",
    "    if ctg.a < 20 or ctg.c==0:\n",
    "        return None\n",
    "    return ctg.rr()"
   ]
  },
  {
   "cell_type": "code",
   "execution_count": null,
   "metadata": {},
   "outputs": [],
   "source": [
    "# Extract contingency tables: \n",
    "# minSupp = min support of context (negative = absolute, positive = percentage)\n",
    "# topk = top k contingency tables\n",
    "ctgs_rd = disc.extract(testCond=check_rd, minSupp=-20, topk=1000)"
   ]
  },
  {
   "cell_type": "code",
   "execution_count": null,
   "metadata": {},
   "outputs": [],
   "source": [
    "# print top 3 \n",
    "for v, ctg in ctgs_rd[:3]:\n",
    "    disc.print(ctg)\n",
    "    print(\"RD = {:f}\".format(v))"
   ]
  },
  {
   "cell_type": "code",
   "execution_count": null,
   "metadata": {},
   "outputs": [],
   "source": [
    "# contingency tables wrt RR\n",
    "ctgs_rr = disc.extract(testCond=check_rr, minSupp=-20, topk=1000)\n",
    "for v, ctg in ctgs_rr[:3]:\n",
    "    disc.print(ctg)\n",
    "    print(\"RR = {:f}\".format(v))"
   ]
  },
  {
   "cell_type": "code",
   "execution_count": null,
   "metadata": {},
   "outputs": [],
   "source": [
    "# contingency tables in ctgs_rd\n",
    "ct_rd_set = set(ctg[1] for ctg in ctgs_rd)\n",
    "# contingency tables in ctgs_rd\n",
    "ct_rr_set = set(ctg[1] for ctg in ctgs_rr)\n",
    "# contingency tables in both\n",
    "shared = ct_rd_set & ct_rr_set\n",
    "len(shared) "
   ]
  },
  {
   "cell_type": "code",
   "execution_count": null,
   "metadata": {},
   "outputs": [],
   "source": [
    "# plot p1() vs p2()\n",
    "plt.style.use('seaborn-whitegrid')\n",
    "plt.xlim(0, 1)\n",
    "plt.ylim(0, 1)\n",
    "plt.plot([ctg.p1() for ctg in shared], [ctg.p2() for ctg in shared], '+', color='red', label=r'RR $\\cap$ RD')\n",
    "only_rd = ct_rd_set - shared\n",
    "plt.plot([ctg.p1() for ctg in only_rd], [ctg.p2() for ctg in only_rd], '.', color='blue', label=r'RD \\ RR')\n",
    "only_rr = ct_rr_set - shared\n",
    "plt.plot([ctg.p1() for ctg in only_rr], [ctg.p2() for ctg in only_rr], 'x', color='green', label=r'RR \\ RD')\n",
    "plt.legend()\n",
    "plt.xlabel('p1')\n",
    "plt.ylabel('p2')"
   ]
  },
  {
   "cell_type": "code",
   "execution_count": null,
   "metadata": {
    "scrolled": true
   },
   "outputs": [],
   "source": [
    "# sequential covering algorithm: 10 contingency tables\n",
    "covers, residuals, times, uncovered, ctg, ctg_rem = disc.cover_n(ct_rd_set, check_rd, 10)\n",
    "print('Total protected covered:', sum(residuals))\n",
    "print('Total protected:', sum(residuals)+len(uncovered))\n",
    "print('% covered: {:.2f}%'.format(100*sum(residuals)/(sum(residuals)+len(uncovered))))\n",
    "disc.print(ctg)\n",
    "print(\"RD = {:f}\".format(ctg.rd()))\n",
    "disc.print(ctg_rem)\n",
    "print(\"RD = {:f}\".format(ctg_rem.rd()))\n",
    "for ctg, res in zip(covers, residuals):\n",
    "    print('-----\\nCovered', res)\n",
    "    disc.print(ctg)\n",
    "    print(\"RD = {:f}\".format(ctg.rd()))"
   ]
  },
  {
   "cell_type": "markdown",
   "metadata": {},
   "source": [
    "# Part II"
   ]
  },
  {
   "cell_type": "code",
   "execution_count": null,
   "metadata": {},
   "outputs": [],
   "source": [
    "# Adult dataset\n",
    "adult = pd.read_csv(wdir+'data/adult_discrete.csv', sep=',', na_values='?')\n",
    "adult.head()"
   ]
  },
  {
   "cell_type": "code",
   "execution_count": null,
   "metadata": {},
   "outputs": [],
   "source": [
    "# Encode categorical values\n",
    "enc = dd.Encode()\n",
    "df = enc.fit_transform(adult)\n",
    "df.head()"
   ]
  },
  {
   "cell_type": "code",
   "execution_count": null,
   "metadata": {},
   "outputs": [],
   "source": [
    "# there are missing values (but LightGBM deal with them! no need for imputation methods)\n",
    "df.isna().sum()"
   ]
  },
  {
   "cell_type": "code",
   "execution_count": null,
   "metadata": {},
   "outputs": [],
   "source": [
    "# df has categorical features (but LightGBM deal with them! no need for one-hot encoding)\n",
    "df.dtypes"
   ]
  },
  {
   "cell_type": "code",
   "execution_count": null,
   "metadata": {},
   "outputs": [],
   "source": [
    "# split train test\n",
    "X = df[df.columns.drop('class')]\n",
    "y = df['class'].astype(int)\n",
    "X_train, X_test, y_train, y_test, adult_train, adult_test = train_test_split(X, y, adult.copy(), test_size=0.33, random_state=42)"
   ]
  },
  {
   "cell_type": "code",
   "execution_count": null,
   "metadata": {},
   "outputs": [],
   "source": [
    "# training model and make predictions \n",
    "import lightgbm as lgb\n",
    "\n",
    "clf = lgb.LGBMClassifier()\n",
    "clf.fit(X_train, y_train)\n",
    "# add predicted class in the adult_test (decoding back)\n",
    "adult_test['predicted'] = [enc.decode['class'][v] for v in clf.predict(X_test)]\n",
    "adult_test['predicted'].astype('category')\n",
    "# add predicted score in the adult_test\n",
    "adult_test['score'] = clf.predict_proba(X_test)[:,1]\n",
    "adult_test.head()"
   ]
  },
  {
   "cell_type": "code",
   "execution_count": null,
   "metadata": {},
   "outputs": [],
   "source": [
    "# discrimination in overall test set\n",
    "atts = list(set(adult_test.columns)-set(['score'])) # do not use score in contexts\n",
    "disc = dd.DD(adult_test[atts], unprotectedItem='race=White', predBadItem='predicted=-50K', codes=dict(),\n",
    "                                                 trueBadItem='class=-50K', na_values={'nan'}) \n",
    "for ctg in disc.ctg_global():\n",
    "    disc.print(ctg)\n",
    "    print(\"TNR White = {:f}\".format(ctg.tnru()))\n",
    "    print(\"TNR NonWhite = {:f}\".format(ctg.tnrp()))\n",
    "    print(\"EOP = {:f}\".format(ctg.eop()))"
   ]
  },
  {
   "cell_type": "code",
   "execution_count": null,
   "metadata": {},
   "outputs": [],
   "source": [
    "# filtering condition: return None to filter out, or measure value\n",
    "# contingency table ctg such that ctg.n() >= minSupp \n",
    "'''\n",
    "     contingency table for separation\n",
    "          protected                                   unprotected\n",
    "     ========== pred.pos == pred.neg ===      === pred.pos  == tpred.neg === \n",
    "     true.pos    TPp          FNp      Pp()          TPu          FNu        Pu()\n",
    "     true.neg    FPp          TNp      Np()          FPu          TNu        Nu()\n",
    "     ==========   a     =====  b  ===  n1()   ===      c    ====    d   ===  n2()\n",
    "'''\n",
    "def check_eop(ctg):\n",
    "    # at least 20 protected with pred.pos and p2() > 0\n",
    "    if ctg.Pu() < 20 or ctg.Pp() < 20 or ctg.Np()==0 or ctg.Nu()==0:\n",
    "        return None\n",
    "    return ctg.eop()"
   ]
  },
  {
   "cell_type": "code",
   "execution_count": null,
   "metadata": {},
   "outputs": [],
   "source": [
    "# Extract contingency tables: \n",
    "ctgs_eop = disc.extract(testCond=check_eop, minSupp=-100, topk=1000)"
   ]
  },
  {
   "cell_type": "code",
   "execution_count": null,
   "metadata": {},
   "outputs": [],
   "source": [
    "# output top 3\n",
    "for v, ctg in ctgs_eop[:3]:\n",
    "    disc.print(ctg)\n",
    "    print(\"TNR White = {:f}\".format(ctg.tnru()))\n",
    "    print(\"TNR NonWhite = {:f}\".format(ctg.tnrp()))\n",
    "    print(\"EOP = {:f}\".format(v))"
   ]
  },
  {
   "cell_type": "code",
   "execution_count": null,
   "metadata": {},
   "outputs": [],
   "source": [
    "# sequential covering algorithm: 10 contingency tables\n",
    "covers, residuals, times, uncovered, ctg, ctg_rem = disc.cover_n([ctg for _,ctg in ctgs_eop], check_eop, 10)\n",
    "print('Total protected covered:', sum(residuals))\n",
    "print('Total protected:', sum(residuals)+len(uncovered))\n",
    "print('% covered: {:.2f}%'.format(100*sum(residuals)/(sum(residuals)+len(uncovered))))\n",
    "disc.print(ctg)\n",
    "print(\"EOP = {:f}\".format(ctg.eop()))\n",
    "disc.print(ctg_rem)\n",
    "print(\"EOP = {:f}\".format(ctg_rem.eop()))\n",
    "\n",
    "for ctg, res in zip(covers, residuals):\n",
    "    print('-----\\nCovered', res)\n",
    "    disc.print(ctg)\n",
    "    print(\"TPR White = {:f}\".format(ctg.tnru()))\n",
    "    print(\"TPR NonWhite = {:f}\".format(ctg.tnrp()))\n",
    "    print(\"EOP = {:f}\".format(ctg.eop()))"
   ]
  },
  {
   "cell_type": "code",
   "execution_count": null,
   "metadata": {},
   "outputs": [],
   "source": [
    "# Fairlearn algorithms and utils (https://github.com/fairlearn/fairlearn)\n",
    "# or try your preferred fair ML tool\n",
    "from fairlearn.postprocessing import ThresholdOptimizer\n",
    "# fairness by post-processing\n",
    "postprocess_est = ThresholdOptimizer(estimator=clf, constraints=\"true_negative_rate_parity\", prefit=True, predict_method='predict')\n",
    "X_train = X_train.fillna(0) # fairlearn does not manage missing values\n",
    "X_test = X_test.fillna(0) # fairlearn does not manage missing values\n",
    "postprocess_est.fit(X_train, y_train, sensitive_features=X_train['race'])\n",
    "# fair-corrected predictions \n",
    "adult_test['predicted'] = [enc.decode['class'][v] for v in postprocess_est.predict(X_test, sensitive_features=X_test['race']).astype(int)]\n",
    "adult_test['predicted'].astype('category')"
   ]
  },
  {
   "cell_type": "code",
   "execution_count": null,
   "metadata": {},
   "outputs": [],
   "source": [
    "# discrimination in test set\n",
    "disc = dd.DD(adult_test[atts], unprotectedItem='race=White', predBadItem='predicted=-50K', codes=dict(),\n",
    "                                                 trueBadItem='class=-50K', na_values={'nan'}) \n",
    "for ctg in disc.ctg_global():\n",
    "    disc.print(ctg)\n",
    "    print(\"TNR Male = {:f}\".format(ctg.tnru()))\n",
    "    print(\"TNR Female = {:f}\".format(ctg.tnrp()))\n",
    "    print(\"EOP = {:f}\".format(ctg.eop()))"
   ]
  },
  {
   "cell_type": "code",
   "execution_count": null,
   "metadata": {},
   "outputs": [],
   "source": [
    "# Extract contingency tables: \n",
    "ctgs_eop_post = disc.extract(testCond=check_eop, minSupp=-100, topk=1000)"
   ]
  },
  {
   "cell_type": "code",
   "execution_count": null,
   "metadata": {},
   "outputs": [],
   "source": [
    "for v, ctg in ctgs_eop_post[:3]:\n",
    "    disc.print(ctg)\n",
    "    print(\"TNR White = {:f}\".format(ctg.tnru()))\n",
    "    print(\"TNR NonWhite = {:f}\".format(ctg.tnrp()))\n",
    "    print(\"EOP = {:f}\".format(v))"
   ]
  },
  {
   "cell_type": "code",
   "execution_count": null,
   "metadata": {
    "scrolled": true
   },
   "outputs": [],
   "source": [
    "sns.set_style('whitegrid')\n",
    "sns.kdeplot(np.array([v for v, _ in ctgs_eop]), bw_adjust=1.0, color='b')\n",
    "sns.kdeplot(np.array([v for v, _ in ctgs_eop_post]), bw_adjust=1.0, color='r')\n",
    "plt.legend(labels=['before', 'after'])"
   ]
  },
  {
   "cell_type": "code",
   "execution_count": null,
   "metadata": {},
   "outputs": [],
   "source": [
    "# sequential covering algorithm: 10 contingency tables\n",
    "covers, residuals, times, uncovered, ctg, ctg_rem = disc.cover_n([ctg for _,ctg in ctgs_eop_post], check_eop, 10)\n",
    "print('Total protected covered:', sum(residuals))\n",
    "print('Total protected:', sum(residuals)+len(uncovered))\n",
    "print('% covered: {:.2f}%'.format(100*sum(residuals)/(sum(residuals)+len(uncovered))))\n",
    "disc.print(ctg)\n",
    "print(\"EOP = {:f}\".format(ctg.eop()))\n",
    "disc.print(ctg_rem)\n",
    "print(\"EOP = {:f}\".format(ctg_rem.eop()))\n",
    "\n",
    "for ctg, res in zip(covers, residuals):\n",
    "    print('-----\\nCovered', res)\n",
    "    disc.print(ctg)\n",
    "    print(\"TNR White = {:f}\".format(ctg.tnru()))\n",
    "    print(\"TNR NonWhite = {:f}\".format(ctg.tnrp()))\n",
    "    print(\"EOP = {:f}\".format(ctg.eop()))"
   ]
  },
  {
   "cell_type": "markdown",
   "metadata": {},
   "source": [
    "# Part III"
   ]
  },
  {
   "cell_type": "code",
   "execution_count": null,
   "metadata": {},
   "outputs": [],
   "source": [
    "# filtering condition: return None to filter out, or measure value\n",
    "# contingency table ctg such that ctg.n() >= minSupp \n",
    "'''\n",
    "     confusion matrix\n",
    "     =========== pred.pos === pred.neg === \n",
    "     true.pos        a            b       n1()\n",
    "     true.neg        c            d       n2()\n",
    "     ===========    m1()  ===    m2()  ==  n()\n",
    "'''\n",
    "def check_err(ctg):\n",
    "    return (ctg.b+ctg.c)/ctg.n()"
   ]
  },
  {
   "cell_type": "code",
   "execution_count": null,
   "metadata": {},
   "outputs": [],
   "source": [
    "# errors in test set\n",
    "disc = dd.DD(adult_test, unprotectedItem='class=-50K', predBadItem='predicted=+50K', codes=dict(), na_values={'nan'}) \n",
    "for ctg in disc.ctg_global():\n",
    "    disc.print(ctg)\n",
    "    print(\"ERR = {:f}\".format(check_err(ctg)))"
   ]
  },
  {
   "cell_type": "code",
   "execution_count": null,
   "metadata": {},
   "outputs": [],
   "source": [
    "# Extract contingency tables: \n",
    "ctgs_err = disc.extract(testCond=check_err, minSupp=-100, topk=1000)"
   ]
  },
  {
   "cell_type": "code",
   "execution_count": null,
   "metadata": {},
   "outputs": [],
   "source": [
    "# Top 3\n",
    "for v, ctg in ctgs_err[:3]:\n",
    "    disc.print(ctg)\n",
    "    print(\"ERR = {:f}\".format(check_err(ctg)))"
   ]
  },
  {
   "cell_type": "code",
   "execution_count": null,
   "metadata": {
    "scrolled": true
   },
   "outputs": [],
   "source": [
    "def check_err2(ctg):\n",
    "    n = ctg.n()\n",
    "    return (ctg.b+ctg.c)/n if n>100 else None\n",
    "\n",
    "covers, residuals, times, uncovered, ctg, ctg_rem = disc.cover_n([ctg for _,ctg in ctgs_err], check_err2, 10)\n",
    "print('Total protected covered:', sum(residuals))\n",
    "print('Total protected:', sum(residuals)+len(uncovered))\n",
    "print('% covered: {:.2f}%'.format(100*sum(residuals)/(sum(residuals)+len(uncovered))))\n",
    "disc.print(ctg)\n",
    "print(\"ERR = {:f}\".format(check_err(ctg)))\n",
    "disc.print(ctg_rem)\n",
    "print(\"ERR = {:f}\".format(check_err(ctg_rem)))\n",
    "for ctg, res in zip(covers, residuals):\n",
    "    print(res)\n",
    "    disc.print(ctg)\n",
    "    print(\"ERR = {:f}\".format(check_err(ctg)))"
   ]
  },
  {
   "cell_type": "markdown",
   "metadata": {},
   "source": [
    "# Part IV"
   ]
  },
  {
   "cell_type": "code",
   "execution_count": null,
   "metadata": {},
   "outputs": [],
   "source": [
    "# filtering condition: return None to filter out, or measure value\n",
    "# contingency table ctg such that ctg.n() >= minSupp \n",
    "'''\n",
    "     contingency table for inference (protected=None, n1=a,n2=c)\n",
    "     ===========\n",
    "     true.pos      a             \n",
    "     true.neg      c             \n",
    "     ===========   m1()\n",
    "'''\n",
    "def check_acc(ctg):\n",
    "    n = ctg.m1()\n",
    "    return max(ctg.a,ctg.c)/n if n>0 else None"
   ]
  },
  {
   "cell_type": "code",
   "execution_count": null,
   "metadata": {},
   "outputs": [],
   "source": [
    "# accuracy in training set\n",
    "disc = dd.DD(adult_train, 'class=-50K', codes=dict(), na_values={'nan'}) \n",
    "for ctg in disc.ctg_global():\n",
    "    disc.print(ctg)\n",
    "    print(\"ACC = {:f}\".format(check_acc(ctg)))"
   ]
  },
  {
   "cell_type": "code",
   "execution_count": null,
   "metadata": {},
   "outputs": [],
   "source": [
    "# Extract contingency tables: \n",
    "ctgs_acc = disc.extract(testCond=check_acc, minSupp=-1000, topk=1000)"
   ]
  },
  {
   "cell_type": "code",
   "execution_count": null,
   "metadata": {},
   "outputs": [],
   "source": [
    "for v, ctg in ctgs_acc[:3]:\n",
    "    disc.print(ctg)\n",
    "    print(\"ACC = {:f}\".format(check_acc(ctg)))"
   ]
  },
  {
   "cell_type": "code",
   "execution_count": null,
   "metadata": {},
   "outputs": [],
   "source": [
    "# TBD: boundary kernel limiting to (0.0, 1.0)\n",
    "sns.kdeplot(np.array([v for v, _ in ctgs_acc]), bw_adjust=1.0, color='b')"
   ]
  },
  {
   "cell_type": "code",
   "execution_count": null,
   "metadata": {},
   "outputs": [],
   "source": []
  }
 ],
 "metadata": {
  "kernelspec": {
   "display_name": "Python 3 (ipykernel)",
   "language": "python",
   "name": "python3"
  },
  "language_info": {
   "codemirror_mode": {
    "name": "ipython",
    "version": 3
   },
   "file_extension": ".py",
   "mimetype": "text/x-python",
   "name": "python",
   "nbconvert_exporter": "python",
   "pygments_lexer": "ipython3",
   "version": "3.10.9"
  }
 },
 "nbformat": 4,
 "nbformat_minor": 2
}
