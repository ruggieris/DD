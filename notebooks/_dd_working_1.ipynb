{
 "cells": [
  {
   "cell_type": "markdown",
   "metadata": {},
   "source": [
    "### Working notebook: please skip"
   ]
  },
  {
   "cell_type": "code",
   "execution_count": 43,
   "metadata": {},
   "outputs": [],
   "source": [
    "# split X_train\n",
    "X_train2, X_test2, y_train2, y_test2, census_train2, census_test2 = train_test_split(X_train, y_train, census_train, test_size=0.33, random_state=42)"
   ]
  },
  {
   "cell_type": "code",
   "execution_count": 44,
   "metadata": {},
   "outputs": [],
   "source": [
    "clf2 = lgb.LGBMClassifier(random_state=42)\n",
    "clf2.fit(X_train2, y_train2)\n",
    "# add predicted class in the adult_test (decoding back)\n",
    "y_pred_b2 = clf.predict(X_test2)\n",
    "census_test2['pred_b2'] = encoders['class'].inverse_transform(y_pred_b2)"
   ]
  },
  {
   "cell_type": "code",
   "execution_count": 45,
   "metadata": {},
   "outputs": [],
   "source": [
    "#y_pred_bt = clf.predict(X_train)\n",
    "#census_train['pred_bt'] = encoders['class'].inverse_transform(y_pred_bt)\n",
    "disc_bt = dd.DD(census_test2[disc_all+['pred_b2']], unprotectedItem='RAC1P=White alone', \n",
    "               predBadItem='pred_b2=False', trueBadItem='class=False',\n",
    "               codes=disc_b.codes) # extends the coding of items as disc_a "
   ]
  },
  {
   "cell_type": "code",
   "execution_count": 46,
   "metadata": {},
   "outputs": [],
   "source": [
    "# To compute P(pred.good|true.good) we need the dd.DD object\n",
    "metric_bt = lambda ctg: eop_mean(ctg, disc_bt)\n",
    "\n",
    "def metric_bt_abs(ctg):\n",
    "    v = eop_mean(ctg, disc_bt)\n",
    "    return abs(v) if v is not None else v"
   ]
  },
  {
   "cell_type": "code",
   "execution_count": 63,
   "metadata": {},
   "outputs": [],
   "source": [
    "# Extract contingency tables: \n",
    "ctgs_bt = disc_bt.extract(testCond=metric_bt, minSupp=-10, topk=1000)"
   ]
  },
  {
   "cell_type": "code",
   "execution_count": 71,
   "metadata": {
    "scrolled": true
   },
   "outputs": [
    {
     "name": "stdout",
     "output_type": "stream",
     "text": [
      "Total protected: 80847\n",
      "Total protected covered: 478\n",
      "% covered: 0.59%\n"
     ]
    }
   ],
   "source": [
    "# sequential covering algorithm: 10 contingency tables\n",
    "covers, residuals, times, uncovered, ctg_cov, ctg_uncov = disc_bt.cover_n([ctg for _,ctg in ctgs_bt], metric_bt_abs, 10)\n",
    "print('Total protected:', sum(residuals)+len(uncovered))\n",
    "print('Total protected covered:', sum(residuals))\n",
    "print('% covered: {:.2f}%'.format(100*sum(residuals)/(sum(residuals)+len(uncovered))))\n",
    "# OR's of covering contexts and any protected\n",
    "#disc_bt.print(ctg_cov)\n",
    "#print(\"Metric = {:f}\".format(metric_bt(ctg_cov)))"
   ]
  },
  {
   "cell_type": "code",
   "execution_count": 72,
   "metadata": {},
   "outputs": [
    {
     "name": "stdout",
     "output_type": "stream",
     "text": [
      "-----\n",
      "CT 0 covered 37\n",
      "-----\n",
      "Context STATE=MD AND WKHPgroup=>40\n",
      "Size = 1809  Perc = 0.49%\n",
      "RAC1P=Some Other Race alone                    RAC1P=White alone\n",
      "           |pred_b2=False|pred_b2=True|                    |pred_b2=False|pred_b2=True|    \n",
      "class=False|           22|           0|  22     class=False|            8|         357| 365\n",
      "class=True |           15|           0|  15     class=True |            1|         965| 966\n",
      "           |           37|           0|  37                |         1322|           9|1331\n",
      "Metric = 0.982677\n",
      "-----\n",
      "CT 1 covered 81\n",
      "-----\n",
      "Context STATE=NJ AND WKHPgroup=>40\n",
      "Size = 2695  Perc = 0.73%\n",
      "RAC1P=Some Other Race alone                    RAC1P=White alone\n",
      "           |pred_b2=False|pred_b2=True|                    |pred_b2=False|pred_b2=True|    \n",
      "class=False|           46|           0|  46     class=False|            1|         483| 484\n",
      "class=True |           35|           0|  35     class=True |            0|        1646|1646\n",
      "           |           81|           0|  81                |         2129|           1|2130\n",
      "Metric = 0.978099\n",
      "-----\n",
      "CT 2 covered 64\n",
      "-----\n",
      "Context STATE=WA AND WKHPgroup=>40\n",
      "Size = 2204  Perc = 0.60%\n",
      "RAC1P=Some Other Race alone                    RAC1P=White alone\n",
      "           |pred_b2=False|pred_b2=True|                    |pred_b2=False|pred_b2=True|    \n",
      "class=False|           46|           0|  46     class=False|           13|         524| 537\n",
      "class=True |           18|           0|  18     class=True |            9|        1266|1275\n",
      "           |           64|           0|  64                |         1790|          22|1812\n",
      "Metric = 0.974445\n",
      "-----\n",
      "CT 3 covered 97\n",
      "-----\n",
      "Context STATE=IL AND WKHPgroup=>40\n",
      "Size = 4075  Perc = 1.11%\n",
      "RAC1P=Some Other Race alone                    RAC1P=White alone\n",
      "           |pred_b2=False|pred_b2=True|                    |pred_b2=False|pred_b2=True|    \n",
      "class=False|           58|           0|  58     class=False|           17|        1131|1148\n",
      "class=True |           39|           0|  39     class=True |            9|        2358|2367\n",
      "           |           97|           0|  97                |         3489|          26|3515\n",
      "Metric = 0.972881\n",
      "-----\n",
      "CT 4 covered 42\n",
      "-----\n",
      "Context STATE=CO AND WKHPgroup=>40\n",
      "Size = 2073  Perc = 0.56%\n",
      "RAC1P=Some Other Race alone                    RAC1P=White alone\n",
      "           |pred_b2=False|pred_b2=True|                    |pred_b2=False|pred_b2=True|    \n",
      "class=False|           26|           0|  26     class=False|           14|         670| 684\n",
      "class=True |           16|           0|  16     class=True |            7|        1182|1189\n",
      "           |           42|           0|  42                |         1852|          21|1873\n",
      "Metric = 0.969136\n",
      "-----\n",
      "CT 5 covered 34\n",
      "-----\n",
      "Context STATE=VA AND WKHPgroup=>40\n",
      "Size = 2773  Perc = 0.75%\n",
      "RAC1P=Some Other Race alone                    RAC1P=White alone\n",
      "           |pred_b2=False|pred_b2=True|                    |pred_b2=False|pred_b2=True|    \n",
      "class=False|           23|           0|  23     class=False|           11|         696| 707\n",
      "class=True |           11|           0|  11     class=True |            5|        1523|1528\n",
      "           |           34|           0|  34                |         2219|          16|2235\n",
      "Metric = 0.965039\n",
      "-----\n",
      "CT 6 covered 38\n",
      "-----\n",
      "Context STATE=MN AND WKHPgroup=>40\n",
      "Size = 1933  Perc = 0.53%\n",
      "RAC1P=Black or African American alone          RAC1P=White alone\n",
      "           |pred_b2=False|pred_b2=True|                    |pred_b2=False|pred_b2=True|    \n",
      "class=False|           27|           0|  27     class=False|           54|         643| 697\n",
      "class=True |           11|           0|  11     class=True |           47|        1096|1143\n",
      "           |           38|           0|  38                |         1739|         101|1840\n",
      "Metric = 0.943782\n",
      "-----\n",
      "CT 7 covered 30\n",
      "-----\n",
      "Context STATE=UT AND WKHPgroup=>40\n",
      "Size = 861  Perc = 0.23%\n",
      "RAC1P=Some Other Race alone                    RAC1P=White alone\n",
      "           |pred_b2=False|pred_b2=True|                   |pred_b2=False|pred_b2=True|   \n",
      "class=False|           19|           0| 19     class=False|           18|         279|297\n",
      "class=True |           11|           0| 11     class=True |           21|         464|485\n",
      "           |           30|           0| 30                |          743|          39|782\n",
      "Metric = 0.923518\n",
      "-----\n",
      "CT 8 covered 20\n",
      "-----\n",
      "Context STATE=OR AND WKHPgroup=>40\n",
      "Size = 1210  Perc = 0.33%\n",
      "RAC1P=Black or African American alone          RAC1P=White alone\n",
      "           |pred_b2=False|pred_b2=True|                    |pred_b2=False|pred_b2=True|    \n",
      "class=False|           11|           0|  11     class=False|           32|         365| 397\n",
      "class=True |            9|           0|   9     class=True |           30|         639| 669\n",
      "           |           20|           0|  20                |         1004|          62|1066\n",
      "Metric = 0.921088\n",
      "-----\n",
      "CT 9 covered 35\n",
      "-----\n",
      "Context STATE=OR AND WKHPgroup=>40\n",
      "Size = 1190  Perc = 0.32%\n",
      "RAC1P=Some Other Race alone                    RAC1P=White alone\n",
      "           |pred_b2=False|pred_b2=True|                    |pred_b2=False|pred_b2=True|    \n",
      "class=False|           21|           0|  21     class=False|           32|         365| 397\n",
      "class=True |           14|           0|  14     class=True |           30|         639| 669\n",
      "           |           35|           0|  35                |         1004|          62|1066\n",
      "Metric = 0.921088\n",
      "-----\n",
      "Average metric = 0.962475\n"
     ]
    }
   ],
   "source": [
    "# Cover contingency tables\n",
    "sum_rd = cnt_rd = i = 0\n",
    "for ctg, res in zip(covers, residuals):\n",
    "    print('-----\\nCT', i, 'covered', res)\n",
    "    i += 1\n",
    "    disc_bt.print(ctg)\n",
    "    print(\"Metric = {:f}\".format(metric_bt(ctg)))\n",
    "    sum_rd += metric_bt(ctg)*ctg.n1()\n",
    "    cnt_rd += ctg.n1()\n",
    "print('-----\\nAverage metric = {:f}'.format(sum_rd/cnt_rd))"
   ]
  },
  {
   "cell_type": "code",
   "execution_count": 73,
   "metadata": {},
   "outputs": [],
   "source": [
    "# switch to test set\n",
    "all_covered = disc_b.itDB.cover_none()\n",
    "for c in covers:\n",
    "    all_covered |= disc_b.itDB.cover(c.ctx)"
   ]
  },
  {
   "cell_type": "code",
   "execution_count": 74,
   "metadata": {
    "scrolled": true
   },
   "outputs": [],
   "source": [
    "if False:\n",
    "    all_covered = disc_b.itDB.cover_none()\n",
    "    for x, d in zip(xs, descs):\n",
    "        if abs(x)>0.4:\n",
    "            dec = [disc_b.codes[v] for v in d]\n",
    "            print(x, d, dec)\n",
    "            all_covered |= disc_b.itDB.cover(dec)"
   ]
  },
  {
   "cell_type": "code",
   "execution_count": 75,
   "metadata": {},
   "outputs": [
    {
     "data": {
      "text/plain": [
       "29535"
      ]
     },
     "execution_count": 75,
     "metadata": {},
     "output_type": "execute_result"
    }
   ],
   "source": [
    "len(all_covered)"
   ]
  },
  {
   "cell_type": "code",
   "execution_count": 76,
   "metadata": {},
   "outputs": [
    {
     "name": "stdout",
     "output_type": "stream",
     "text": [
      "Coverage 0.9462300991288676\n"
     ]
    }
   ],
   "source": [
    "# selected = all - covered\n",
    "sel = list(set(range(len(census_test)))-set(all_covered))\n",
    "census_test_r = census_test.iloc[sel,:]\n",
    "print('Coverage', len(sel)/len(census_test))"
   ]
  },
  {
   "cell_type": "code",
   "execution_count": 77,
   "metadata": {
    "scrolled": true
   },
   "outputs": [],
   "source": [
    "disc_r = dd.DD(census_test_r[disc_all+['pred_b']], unprotectedItem='RAC1P=White alone', \n",
    "               predBadItem='pred_b=False', trueBadItem='class=False', \n",
    "               codes=disc_b.codes) # extends the coding of items as disc_a "
   ]
  },
  {
   "cell_type": "code",
   "execution_count": 78,
   "metadata": {},
   "outputs": [],
   "source": [
    "# To compute P(pred.good|true.good) we need the dd.DD object\n",
    "metric_r = lambda ctg: eop_mean(ctg, disc_r)"
   ]
  },
  {
   "cell_type": "code",
   "execution_count": 79,
   "metadata": {
    "scrolled": true
   },
   "outputs": [
    {
     "name": "stdout",
     "output_type": "stream",
     "text": [
      "-----\n",
      "Context ALL\n",
      "Size = 519750  Perc = 100.00%\n",
      "RAC1P=Black or African American alone           RAC1P=White alone\n",
      "           |pred_b=False|pred_b=True|                      |pred_b=False|pred_b=True|      \n",
      "class=False|       35222|        599| 35821     class=False|      212152|      41348|253500\n",
      "class=True |       10272|        820| 11092     class=True |       84376|      65471|149847\n",
      "           |       45494|       1419| 46913                |      106819|     296528|403347\n",
      "Metric = 0.348295\n",
      "-----\n",
      "Context ALL\n",
      "Size = 519750  Perc = 100.00%\n",
      "RAC1P=Two or More Races                         RAC1P=White alone\n",
      "           |pred_b=False|pred_b=True|                      |pred_b=False|pred_b=True|      \n",
      "class=False|        8761|        685|  9446     class=False|      212152|      41348|253500\n",
      "class=True |        2716|        996|  3712     class=True |       84376|      65471|149847\n",
      "           |       11477|       1681| 13158                |      106819|     296528|403347\n",
      "Metric = 0.153903\n",
      "-----\n",
      "Context ALL\n",
      "Size = 519750  Perc = 100.00%\n",
      "RAC1P=Asian alone                               RAC1P=White alone\n",
      "           |pred_b=False|pred_b=True|                      |pred_b=False|pred_b=True|      \n",
      "class=False|       10334|       6724| 17058     class=False|      212152|      41348|253500\n",
      "class=True |        3557|       9768| 13325     class=True |       84376|      65471|149847\n",
      "           |       13891|      16492| 30383                |      106819|     296528|403347\n",
      "Metric = -0.310836\n",
      "-----\n",
      "Context ALL\n",
      "Size = 519750  Perc = 100.00%\n",
      "RAC1P=Some Other Race alone                     RAC1P=White alone\n",
      "           |pred_b=False|pred_b=True|                      |pred_b=False|pred_b=True|      \n",
      "class=False|       16571|         21| 16592     class=False|      212152|      41348|253500\n",
      "class=True |        3514|         23|  3537     class=True |       84376|      65471|149847\n",
      "           |       20085|         44| 20129                |      106819|     296528|403347\n",
      "Metric = 0.415720\n",
      "-----\n",
      "Context ALL\n",
      "Size = 519750  Perc = 100.00%\n",
      "RAC1P=American Indian alone                    RAC1P=White alone\n",
      "           |pred_b=False|pred_b=True|                      |pred_b=False|pred_b=True|      \n",
      "class=False|        2996|         41|  3037     class=False|      212152|      41348|253500\n",
      "class=True |         777|         56|   833     class=True |       84376|      65471|149847\n",
      "           |        3773|         97|  3870                |      106819|     296528|403347\n",
      "Metric = 0.354995\n",
      "-----\n",
      "Context ALL\n",
      "Size = 519750  Perc = 100.00%\n",
      "RAC1P=American Indian and Alaska Native tribes specified;or American Indian or Alaska Native,not specified and no other      RAC1P=White alone\n",
      "           |pred_b=False|pred_b=True|                      |pred_b=False|pred_b=True|      \n",
      "class=False|         568|          0|   568     class=False|      212152|      41348|253500\n",
      "class=True |         122|          0|   122     class=True |       84376|      65471|149847\n",
      "           |         690|          0|   690                |      106819|     296528|403347\n",
      "Metric = 0.422222\n",
      "-----\n",
      "Context ALL\n",
      "Size = 519750  Perc = 100.00%\n",
      "RAC1P=Native Hawaiian and Other Pacific Islander alone      RAC1P=White alone\n",
      "           |pred_b=False|pred_b=True|                      |pred_b=False|pred_b=True|      \n",
      "class=False|         682|         30|   712     class=False|      212152|      41348|253500\n",
      "class=True |         202|         33|   235     class=True |       84376|      65471|149847\n",
      "           |         884|         63|   947                |      106819|     296528|403347\n",
      "Metric = 0.281797\n",
      "-----\n",
      "Context ALL\n",
      "Size = 519750  Perc = 100.00%\n",
      "RAC1P=Alaska Native alone                     RAC1P=White alone\n",
      "           |pred_b=False|pred_b=True|                      |pred_b=False|pred_b=True|      \n",
      "class=False|         245|          0|   245     class=False|      212152|      41348|253500\n",
      "class=True |          65|          3|    68     class=True |       84376|      65471|149847\n",
      "           |         310|          3|   313                |      106819|     296528|403347\n",
      "Metric = 0.378105\n"
     ]
    }
   ],
   "source": [
    "# each protected vs unprotected\n",
    "for ctg in disc_r.ctg_global():\n",
    "    disc_r.print(ctg)\n",
    "    print(\"Metric = {:f}\".format(metric_r(ctg)))"
   ]
  },
  {
   "cell_type": "code",
   "execution_count": 93,
   "metadata": {},
   "outputs": [
    {
     "name": "stdout",
     "output_type": "stream",
     "text": [
      "mean before 0.3216297936836959 after 0.30040320527186376 len 230\n",
      "0.3237597911227154 0.3237597911227154 ('STATE=AL', 'RAC1P=Black or African American alone')\n",
      "0.3237597911227154 0.3237597911227154 ('STATE=AL', 'RAC1P=Two or More Races')\n",
      "0.038045505408429714 0.038045505408429714 ('STATE=AL', 'RAC1P=Asian alone')\n",
      "0.3237597911227154 0.3237597911227154 ('STATE=AL', 'RAC1P=Some Other Race alone')\n",
      "0.3237597911227154 0.3237597911227154 ('STATE=AL', 'RAC1P=American Indian alone')\n",
      "0.6711111111111111 0.6711111111111111 ('STATE=AK', 'RAC1P=Black or African American alone')\n",
      "0.3983838383838384 0.3983838383838384 ('STATE=AK', 'RAC1P=Two or More Races')\n",
      "0.4711111111111111 0.4711111111111111 ('STATE=AK', 'RAC1P=Asian alone')\n",
      "0.6711111111111111 0.6711111111111111 ('STATE=AK', 'RAC1P=American Indian and Alaska Native tribes specified;or American Indian or Alaska Native,not specified and no other')\n",
      "0.6711111111111111 0.6711111111111111 ('STATE=AK', 'RAC1P=Alaska Native alone')\n",
      "0.3875338753387534 0.3875338753387534 ('STATE=AZ', 'RAC1P=Black or African American alone')\n",
      "0.04059509982854931 0.04059509982854931 ('STATE=AZ', 'RAC1P=Two or More Races')\n",
      "0.11280860061347864 0.11280860061347864 ('STATE=AZ', 'RAC1P=Asian alone')\n",
      "0.3375338753387534 0.3375338753387534 ('STATE=AZ', 'RAC1P=Some Other Race alone')\n",
      "0.3875338753387534 0.3875338753387534 ('STATE=AZ', 'RAC1P=American Indian alone')\n",
      "0.3875338753387534 0.3875338753387534 ('STATE=AZ', 'RAC1P=American Indian and Alaska Native tribes specified;or American Indian or Alaska Native,not specified and no other')\n",
      "0.3875338753387534 0.3875338753387534 ('STATE=AZ', 'RAC1P=Native Hawaiian and Other Pacific Islander alone')\n",
      "0.28428927680798005 0.28428927680798005 ('STATE=AR', 'RAC1P=Black or African American alone')\n",
      "0.28428927680798005 0.28428927680798005 ('STATE=AR', 'RAC1P=Two or More Races')\n",
      "0.28428927680798005 0.28428927680798005 ('STATE=AR', 'RAC1P=Asian alone')\n",
      "0.28428927680798005 0.28428927680798005 ('STATE=AR', 'RAC1P=Some Other Race alone')\n",
      "0.28428927680798005 0.28428927680798005 ('STATE=AR', 'RAC1P=American Indian alone')\n",
      "0.22314824422794768 0.22314824422794768 ('STATE=CA', 'RAC1P=Black or African American alone')\n",
      "0.099709737850734 0.099709737850734 ('STATE=CA', 'RAC1P=Two or More Races')\n",
      "-0.4380196490881587 -0.4380196490881587 ('STATE=CA', 'RAC1P=Asian alone')\n",
      "0.4664747329343132 0.4664747329343132 ('STATE=CA', 'RAC1P=Some Other Race alone')\n",
      "0.15878242524200548 0.15878242524200548 ('STATE=CA', 'RAC1P=American Indian alone')\n",
      "0.4664747329343132 0.4664747329343132 ('STATE=CA', 'RAC1P=American Indian and Alaska Native tribes specified;or American Indian or Alaska Native,not specified and no other')\n",
      "0.20620076033157347 0.20620076033157347 ('STATE=CA', 'RAC1P=Native Hawaiian and Other Pacific Islander alone')\n",
      "0.2149009868636037 0.036274070756829375 ('STATE=CO', 'RAC1P=Black or African American alone')\n",
      "-0.00927696284626095 0.036274070756829375 ('STATE=CO', 'RAC1P=Two or More Races')\n",
      "-0.42368332958330823 -0.8538358193530606 ('STATE=CO', 'RAC1P=Asian alone')\n",
      "0.4694464414090582 0.036274070756829375 ('STATE=CO', 'RAC1P=Some Other Race alone')\n",
      "0.3785373504999673 0.036274070756829375 ('STATE=CO', 'RAC1P=American Indian alone')\n",
      "0.5730956568799891 0.5730956568799891 ('STATE=CT', 'RAC1P=Black or African American alone')\n",
      "0.33003022302508156 0.33003022302508156 ('STATE=CT', 'RAC1P=Two or More Races')\n",
      "-0.13187038726262545 -0.13187038726262545 ('STATE=CT', 'RAC1P=Asian alone')\n",
      "0.7972859402807988 0.7972859402807988 ('STATE=CT', 'RAC1P=Some Other Race alone')\n",
      "0.19460934089917065 0.19460934089917065 ('STATE=DE', 'RAC1P=Black or African American alone')\n",
      "-0.4488505747126437 -0.4488505747126437 ('STATE=DE', 'RAC1P=Two or More Races')\n",
      "0.38448275862068965 0.38448275862068965 ('STATE=DE', 'RAC1P=Some Other Race alone')\n",
      "0.3873764683945553 0.3873764683945553 ('STATE=FL', 'RAC1P=Black or African American alone')\n",
      "0.13054586730165912 0.13054586730165912 ('STATE=FL', 'RAC1P=Two or More Races')\n",
      "0.05682091283899976 0.05682091283899976 ('STATE=FL', 'RAC1P=Asian alone')\n",
      "0.3873764683945553 0.3873764683945553 ('STATE=FL', 'RAC1P=Some Other Race alone')\n",
      "0.3873764683945553 0.3873764683945553 ('STATE=FL', 'RAC1P=American Indian alone')\n",
      "0.3873764683945553 0.3873764683945553 ('STATE=FL', 'RAC1P=Native Hawaiian and Other Pacific Islander alone')\n",
      "0.3908796942812217 0.3908796942812217 ('STATE=GA', 'RAC1P=Black or African American alone')\n",
      "0.03004793881914164 0.03004793881914164 ('STATE=GA', 'RAC1P=Two or More Races')\n",
      "-0.5327571754776426 -0.5327571754776426 ('STATE=GA', 'RAC1P=Asian alone')\n",
      "0.412070410729254 0.412070410729254 ('STATE=GA', 'RAC1P=Some Other Race alone')\n",
      "0.412070410729254 0.412070410729254 ('STATE=GA', 'RAC1P=American Indian alone')\n",
      "0.041785583607757026 0.041785583607757026 ('STATE=HI', 'RAC1P=Black or African American alone')\n",
      "0.06567768380043526 0.06567768380043526 ('STATE=HI', 'RAC1P=Two or More Races')\n",
      "0.0308318536738571 0.0308318536738571 ('STATE=HI', 'RAC1P=Asian alone')\n",
      "0.3084522502744237 0.3084522502744237 ('STATE=HI', 'RAC1P=Some Other Race alone')\n",
      "0.12383686565903906 0.12383686565903906 ('STATE=HI', 'RAC1P=Native Hawaiian and Other Pacific Islander alone')\n",
      "0.2553729456384324 0.2553729456384324 ('STATE=ID', 'RAC1P=Two or More Races')\n",
      "0.2553729456384324 0.2553729456384324 ('STATE=ID', 'RAC1P=Asian alone')\n",
      "0.2553729456384324 0.2553729456384324 ('STATE=ID', 'RAC1P=Some Other Race alone')\n",
      "0.2553729456384324 0.2553729456384324 ('STATE=ID', 'RAC1P=American Indian alone')\n",
      "0.2201225883625097 0.06504232913483378 ('STATE=IL', 'RAC1P=Black or African American alone')\n",
      "0.034899648807256156 0.06504232913483378 ('STATE=IL', 'RAC1P=Two or More Races')\n",
      "-0.4602172496834215 -0.8375364674267708 ('STATE=IL', 'RAC1P=Asian alone')\n",
      "0.4752666212843204 0.06504232913483378 ('STATE=IL', 'RAC1P=Some Other Race alone')\n",
      "0.1895523355700347 0.06504232913483378 ('STATE=IL', 'RAC1P=American Indian alone')\n",
      "0.44725618424793856 0.44725618424793856 ('STATE=IN', 'RAC1P=Black or African American alone')\n",
      "0.42642285091460524 0.42642285091460524 ('STATE=IN', 'RAC1P=Two or More Races')\n",
      "0.17965055044512168 0.17965055044512168 ('STATE=IN', 'RAC1P=Asian alone')\n",
      "0.44725618424793856 0.44725618424793856 ('STATE=IN', 'RAC1P=Some Other Race alone')\n",
      "0.44725618424793856 0.44725618424793856 ('STATE=IN', 'RAC1P=American Indian alone')\n",
      "0.30919978225367445 0.30919978225367445 ('STATE=IA', 'RAC1P=Black or African American alone')\n",
      "0.30919978225367445 0.30919978225367445 ('STATE=IA', 'RAC1P=Two or More Races')\n",
      "0.30919978225367445 0.30919978225367445 ('STATE=IA', 'RAC1P=Asian alone')\n",
      "0.30919978225367445 0.30919978225367445 ('STATE=IA', 'RAC1P=Some Other Race alone')\n",
      "0.4038701622971286 0.4038701622971286 ('STATE=KS', 'RAC1P=Black or African American alone')\n",
      "0.4038701622971286 0.4038701622971286 ('STATE=KS', 'RAC1P=Two or More Races')\n",
      "0.14071226756028649 0.14071226756028649 ('STATE=KS', 'RAC1P=Asian alone')\n",
      "0.4038701622971286 0.4038701622971286 ('STATE=KS', 'RAC1P=Some Other Race alone')\n",
      "0.4038701622971286 0.4038701622971286 ('STATE=KS', 'RAC1P=American Indian alone')\n",
      "0.3904761904761905 0.3904761904761905 ('STATE=KY', 'RAC1P=Black or African American alone')\n",
      "0.3904761904761905 0.3904761904761905 ('STATE=KY', 'RAC1P=Two or More Races')\n",
      "0.19535423925667827 0.19535423925667827 ('STATE=KY', 'RAC1P=Asian alone')\n",
      "0.3904761904761905 0.3904761904761905 ('STATE=KY', 'RAC1P=Some Other Race alone')\n",
      "0.35371345224787987 0.35371345224787987 ('STATE=LA', 'RAC1P=Black or African American alone')\n",
      "0.17340794215513572 0.17340794215513572 ('STATE=LA', 'RAC1P=Two or More Races')\n",
      "-0.015403246656053082 -0.015403246656053082 ('STATE=LA', 'RAC1P=Asian alone')\n",
      "0.37853614728334084 0.37853614728334084 ('STATE=LA', 'RAC1P=Some Other Race alone')\n",
      "0.37853614728334084 0.37853614728334084 ('STATE=LA', 'RAC1P=American Indian alone')\n",
      "0.41916167664670656 0.41916167664670656 ('STATE=ME', 'RAC1P=Black or African American alone')\n",
      "0.41916167664670656 0.41916167664670656 ('STATE=ME', 'RAC1P=Two or More Races')\n",
      "0.3191616766467066 0.3191616766467066 ('STATE=ME', 'RAC1P=Asian alone')\n",
      "0.49885662521350965 0.6384468362953347 ('STATE=MD', 'RAC1P=Black or African American alone')\n",
      "-0.19885894750206312 -0.29773564064801183 ('STATE=MD', 'RAC1P=Two or More Races')\n",
      "-0.17836345200656756 -0.2869755673879386 ('STATE=MD', 'RAC1P=Asian alone')\n",
      "0.7594743858312702 0.6397643593519882 ('STATE=MD', 'RAC1P=Some Other Race alone')\n",
      "0.5493168785728147 0.5493168785728147 ('STATE=MA', 'RAC1P=Black or African American alone')\n",
      "0.3528821260632959 0.3528821260632959 ('STATE=MA', 'RAC1P=Two or More Races')\n",
      "-0.08651551333434349 -0.08651551333434349 ('STATE=MA', 'RAC1P=Asian alone')\n",
      "0.7413403517308239 0.7413403517308239 ('STATE=MA', 'RAC1P=Some Other Race alone')\n",
      "0.44730553693281133 0.44730553693281133 ('STATE=MI', 'RAC1P=Black or African American alone')\n",
      "0.0961874037291166 0.0961874037291166 ('STATE=MI', 'RAC1P=Two or More Races')\n",
      "-0.44980190108371765 -0.44980190108371765 ('STATE=MI', 'RAC1P=Asian alone')\n",
      "0.46383446255264604 0.46383446255264604 ('STATE=MI', 'RAC1P=Some Other Race alone')\n",
      "0.26383446255264603 0.26383446255264603 ('STATE=MI', 'RAC1P=American Indian alone')\n",
      "0.4367239101717305 0.0 ('STATE=MN', 'RAC1P=Black or African American alone')\n",
      "0.052108525556345875 0.0 ('STATE=MN', 'RAC1P=Two or More Races')\n",
      "0.189199157696483 0.0 ('STATE=MN', 'RAC1P=Asian alone')\n",
      "0.4367239101717305 0.0 ('STATE=MN', 'RAC1P=Some Other Race alone')\n",
      "0.4367239101717305 0.0 ('STATE=MN', 'RAC1P=American Indian alone')\n",
      "0.298811544991511 0.298811544991511 ('STATE=MS', 'RAC1P=Black or African American alone')\n",
      "0.298811544991511 0.298811544991511 ('STATE=MS', 'RAC1P=Two or More Races')\n",
      "0.09881154499151101 0.09881154499151101 ('STATE=MS', 'RAC1P=Asian alone')\n",
      "0.298811544991511 0.298811544991511 ('STATE=MS', 'RAC1P=Some Other Race alone')\n",
      "0.3932975023711666 0.3932975023711666 ('STATE=MO', 'RAC1P=Black or African American alone')\n",
      "0.3932975023711666 0.3932975023711666 ('STATE=MO', 'RAC1P=Two or More Races')\n",
      "0.11329750237116659 0.11329750237116659 ('STATE=MO', 'RAC1P=Asian alone')\n",
      "0.3932975023711666 0.3932975023711666 ('STATE=MO', 'RAC1P=Some Other Race alone')\n",
      "0.3932975023711666 0.3932975023711666 ('STATE=MO', 'RAC1P=American Indian alone')\n",
      "0.3779816513761468 0.3779816513761468 ('STATE=MT', 'RAC1P=Two or More Races')\n",
      "0.3779816513761468 0.3779816513761468 ('STATE=MT', 'RAC1P=American Indian alone')\n",
      "0.2891674127126231 0.2891674127126231 ('STATE=NE', 'RAC1P=Black or African American alone')\n",
      "0.2891674127126231 0.2891674127126231 ('STATE=NE', 'RAC1P=Two or More Races')\n",
      "0.2891674127126231 0.2891674127126231 ('STATE=NE', 'RAC1P=Asian alone')\n",
      "0.2891674127126231 0.2891674127126231 ('STATE=NE', 'RAC1P=Some Other Race alone')\n",
      "0.2891674127126231 0.2891674127126231 ('STATE=NE', 'RAC1P=American Indian alone')\n",
      "0.3474833232261977 0.3474833232261977 ('STATE=NV', 'RAC1P=Black or African American alone')\n",
      "0.10674258248545695 0.10674258248545695 ('STATE=NV', 'RAC1P=Two or More Races')\n",
      "0.08920517753083346 0.08920517753083346 ('STATE=NV', 'RAC1P=Asian alone')\n",
      "0.3474833232261977 0.3474833232261977 ('STATE=NV', 'RAC1P=Some Other Race alone')\n",
      "0.3474833232261977 0.3474833232261977 ('STATE=NV', 'RAC1P=American Indian alone')\n",
      "0.3474833232261977 0.3474833232261977 ('STATE=NV', 'RAC1P=Native Hawaiian and Other Pacific Islander alone')\n",
      "0.4641860465116279 0.4641860465116279 ('STATE=NH', 'RAC1P=Black or African American alone')\n",
      "-0.035813953488372074 -0.035813953488372074 ('STATE=NH', 'RAC1P=Two or More Races')\n",
      "0.5553036510971501 0.7113939899833055 ('STATE=NJ', 'RAC1P=Black or African American alone')\n",
      "0.4633622591557582 0.7113939899833055 ('STATE=NJ', 'RAC1P=Two or More Races')\n",
      "-0.10848160822951047 -0.18787608300939518 ('STATE=NJ', 'RAC1P=Asian alone')\n",
      "0.8100655558590549 0.7113939899833055 ('STATE=NJ', 'RAC1P=Some Other Race alone')\n",
      "0.6743512701447691 0.7113939899833055 ('STATE=NJ', 'RAC1P=American Indian alone')\n",
      "0.3070588235294118 0.3070588235294118 ('STATE=NM', 'RAC1P=Black or African American alone')\n",
      "0.15705882352941178 0.15705882352941178 ('STATE=NM', 'RAC1P=Two or More Races')\n",
      "-0.6373856209150326 -0.6373856209150326 ('STATE=NM', 'RAC1P=Asian alone')\n",
      "0.3070588235294118 0.3070588235294118 ('STATE=NM', 'RAC1P=Some Other Race alone')\n",
      "0.3070588235294118 0.3070588235294118 ('STATE=NM', 'RAC1P=American Indian alone')\n",
      "0.1361196494981846 0.1361196494981846 ('STATE=NY', 'RAC1P=Black or African American alone')\n",
      "-0.0013809012215273975 -0.0013809012215273975 ('STATE=NY', 'RAC1P=Two or More Races')\n",
      "0.062345457978674135 0.062345457978674135 ('STATE=NY', 'RAC1P=Asian alone')\n",
      "0.34646700187640833 0.34646700187640833 ('STATE=NY', 'RAC1P=Some Other Race alone')\n",
      "0.25375241168070983 0.25375241168070983 ('STATE=NY', 'RAC1P=American Indian alone')\n",
      "0.3691370270653252 0.3691370270653252 ('STATE=NY', 'RAC1P=American Indian and Alaska Native tribes specified;or American Indian or Alaska Native,not specified and no other')\n",
      "0.4023251717456403 0.4023251717456403 ('STATE=NC', 'RAC1P=Black or African American alone')\n",
      "0.4023251717456403 0.4023251717456403 ('STATE=NC', 'RAC1P=Two or More Races')\n",
      "-0.5229084731141728 -0.5229084731141728 ('STATE=NC', 'RAC1P=Asian alone')\n",
      "0.4023251717456403 0.4023251717456403 ('STATE=NC', 'RAC1P=Some Other Race alone')\n",
      "0.4023251717456403 0.4023251717456403 ('STATE=NC', 'RAC1P=American Indian alone')\n",
      "0.4023251717456403 0.4023251717456403 ('STATE=NC', 'RAC1P=American Indian and Alaska Native tribes specified;or American Indian or Alaska Native,not specified and no other')\n",
      "0.4323308270676692 0.4323308270676692 ('STATE=ND', 'RAC1P=Two or More Races')\n",
      "0.4323308270676692 0.4323308270676692 ('STATE=ND', 'RAC1P=American Indian alone')\n",
      "0.4278942832519391 0.4278942832519391 ('STATE=OH', 'RAC1P=Black or African American alone')\n",
      "0.24368375693614966 0.24368375693614966 ('STATE=OH', 'RAC1P=Two or More Races')\n",
      "0.2170509097579632 0.2170509097579632 ('STATE=OH', 'RAC1P=Asian alone')\n",
      "0.4278942832519391 0.4278942832519391 ('STATE=OH', 'RAC1P=Some Other Race alone')\n",
      "0.4278942832519391 0.4278942832519391 ('STATE=OH', 'RAC1P=American Indian alone')\n",
      "0.2624924744130042 0.2624924744130042 ('STATE=OK', 'RAC1P=Black or African American alone')\n",
      "0.2624924744130042 0.2624924744130042 ('STATE=OK', 'RAC1P=Two or More Races')\n",
      "0.10624247441300422 0.10624247441300422 ('STATE=OK', 'RAC1P=Asian alone')\n",
      "0.2624924744130042 0.2624924744130042 ('STATE=OK', 'RAC1P=Some Other Race alone')\n",
      "0.2624924744130042 0.2624924744130042 ('STATE=OK', 'RAC1P=American Indian alone')\n",
      "0.2624924744130042 0.2624924744130042 ('STATE=OK', 'RAC1P=American Indian and Alaska Native tribes specified;or American Indian or Alaska Native,not specified and no other')\n",
      "0.3906716417910448 0.0 ('STATE=OR', 'RAC1P=Black or African American alone')\n",
      "0.006056257175660162 0.0 ('STATE=OR', 'RAC1P=Two or More Races')\n",
      "0.15338350619782445 0.0 ('STATE=OR', 'RAC1P=Asian alone')\n",
      "0.3906716417910448 0.0 ('STATE=OR', 'RAC1P=Some Other Race alone')\n",
      "0.3906716417910448 0.0 ('STATE=OR', 'RAC1P=American Indian alone')\n",
      "0.382557700580298 0.382557700580298 ('STATE=PA', 'RAC1P=Black or African American alone')\n",
      "0.2629563716766435 0.2629563716766435 ('STATE=PA', 'RAC1P=Two or More Races')\n",
      "0.1310043542284428 0.1310043542284428 ('STATE=PA', 'RAC1P=Asian alone')\n",
      "0.40581351453378633 0.40581351453378633 ('STATE=PA', 'RAC1P=Some Other Race alone')\n",
      "0.30581351453378636 0.30581351453378636 ('STATE=PA', 'RAC1P=American Indian alone')\n",
      "0.21995043370508058 0.21995043370508058 ('STATE=RI', 'RAC1P=Black or African American alone')\n",
      "0.05328376703841392 0.05328376703841392 ('STATE=RI', 'RAC1P=Two or More Races')\n",
      "0.10661710037174721 0.10661710037174721 ('STATE=RI', 'RAC1P=Asian alone')\n",
      "0.38661710037174724 0.38661710037174724 ('STATE=RI', 'RAC1P=Some Other Race alone')\n",
      "0.37624950019992004 0.37624950019992004 ('STATE=SC', 'RAC1P=Black or African American alone')\n",
      "0.37624950019992004 0.37624950019992004 ('STATE=SC', 'RAC1P=Two or More Races')\n",
      "0.06855719250761233 0.06855719250761233 ('STATE=SC', 'RAC1P=Asian alone')\n",
      "0.37624950019992004 0.37624950019992004 ('STATE=SC', 'RAC1P=Some Other Race alone')\n",
      "0.37624950019992004 0.37624950019992004 ('STATE=SC', 'RAC1P=American Indian alone')\n",
      "0.23690773067331672 0.23690773067331672 ('STATE=SD', 'RAC1P=Two or More Races')\n",
      "0.23690773067331672 0.23690773067331672 ('STATE=SD', 'RAC1P=American Indian alone')\n",
      "0.3529385576659264 0.3529385576659264 ('STATE=TN', 'RAC1P=Black or African American alone')\n",
      "0.325197329595751 0.325197329595751 ('STATE=TN', 'RAC1P=Two or More Races')\n",
      "0.12787590102432242 0.12787590102432242 ('STATE=TN', 'RAC1P=Asian alone')\n",
      "0.356447329595751 0.356447329595751 ('STATE=TN', 'RAC1P=Some Other Race alone')\n",
      "0.34980631939283385 0.34980631939283385 ('STATE=TX', 'RAC1P=Black or African American alone')\n",
      "0.04182400129649139 0.04182400129649139 ('STATE=TX', 'RAC1P=Two or More Races')\n",
      "-0.4394228922604187 -0.4394228922604187 ('STATE=TX', 'RAC1P=Asian alone')\n",
      "0.46707317073170734 0.46707317073170734 ('STATE=TX', 'RAC1P=Some Other Race alone')\n",
      "0.4115176151761518 0.4115176151761518 ('STATE=TX', 'RAC1P=American Indian alone')\n",
      "0.46707317073170734 0.46707317073170734 ('STATE=TX', 'RAC1P=American Indian and Alaska Native tribes specified;or American Indian or Alaska Native,not specified and no other')\n",
      "0.3132270168855535 0.3132270168855535 ('STATE=TX', 'RAC1P=Native Hawaiian and Other Pacific Islander alone')\n",
      "0.40303358613217766 0.0 ('STATE=UT', 'RAC1P=Black or African American alone')\n",
      "0.15303358613217766 0.0 ('STATE=UT', 'RAC1P=Two or More Races')\n",
      "0.16390315134956895 0.0 ('STATE=UT', 'RAC1P=Asian alone')\n",
      "0.40303358613217766 0.0 ('STATE=UT', 'RAC1P=Some Other Race alone')\n",
      "0.40303358613217766 0.0 ('STATE=UT', 'RAC1P=American Indian alone')\n",
      "0.40303358613217766 0.0 ('STATE=UT', 'RAC1P=Native Hawaiian and Other Pacific Islander alone')\n",
      "0.5597180129882232 0.7160309149837946 ('STATE=VA', 'RAC1P=Black or African American alone')\n",
      "0.4648026642029054 0.7160309149837946 ('STATE=VA', 'RAC1P=Two or More Races')\n",
      "-0.08450846673177592 -0.17829898192342197 ('STATE=VA', 'RAC1P=Asian alone')\n",
      "0.8156798571853615 0.7160309149837946 ('STATE=VA', 'RAC1P=Some Other Race alone')\n",
      "0.7247707662762706 0.7160309149837946 ('STATE=VA', 'RAC1P=American Indian alone')\n",
      "0.1896456458203074 0.0982089552238806 ('STATE=WA', 'RAC1P=Black or African American alone')\n",
      "0.05768688293370944 0.0982089552238806 ('STATE=WA', 'RAC1P=Two or More Races')\n",
      "-0.46004620664581525 -0.7809119238969985 ('STATE=WA', 'RAC1P=Asian alone')\n",
      "0.45768688293370946 0.0982089552238806 ('STATE=WA', 'RAC1P=Some Other Race alone')\n",
      "0.2822482864424814 0.0982089552238806 ('STATE=WA', 'RAC1P=American Indian alone')\n",
      "0.15768688293370947 0.0982089552238806 ('STATE=WA', 'RAC1P=Native Hawaiian and Other Pacific Islander alone')\n",
      "0.3009320905459387 0.3009320905459387 ('STATE=WV', 'RAC1P=Black or African American alone')\n",
      "0.17593209054593872 0.17593209054593872 ('STATE=WV', 'RAC1P=Two or More Races')\n",
      "0.3009320905459387 0.3009320905459387 ('STATE=WV', 'RAC1P=Asian alone')\n",
      "0.4882337030024344 0.4882337030024344 ('STATE=WI', 'RAC1P=Black or African American alone')\n",
      "0.4549003696691011 0.4549003696691011 ('STATE=WI', 'RAC1P=Two or More Races')\n",
      "0.3275194172881487 0.3275194172881487 ('STATE=WI', 'RAC1P=Asian alone')\n",
      "0.4882337030024344 0.4882337030024344 ('STATE=WI', 'RAC1P=Some Other Race alone')\n",
      "0.4882337030024344 0.4882337030024344 ('STATE=WI', 'RAC1P=American Indian alone')\n",
      "0.430939226519337 0.430939226519337 ('STATE=WY', 'RAC1P=American Indian alone')\n",
      "0.012861736334405145 0.012861736334405145 ('STATE=PR', 'RAC1P=Black or African American alone')\n",
      "0.012861736334405145 0.012861736334405145 ('STATE=PR', 'RAC1P=Two or More Races')\n",
      "0.012861736334405145 0.012861736334405145 ('STATE=PR', 'RAC1P=Some Other Race alone')\n"
     ]
    }
   ],
   "source": [
    "xs, ys, descs, acs = data_plot(disc_b, metric_b, disc_r, metric_r)\n",
    "print('mean before', np.mean([abs(x) for x in xs]), 'after', np.mean([abs(y) for y in ys]), 'len', len(xs))\n",
    "for x, y, d in zip(xs, ys, descs):\n",
    "    print(x,y,d)"
   ]
  },
  {
   "cell_type": "code",
   "execution_count": 94,
   "metadata": {},
   "outputs": [
    {
     "name": "stderr",
     "output_type": "stream",
     "text": [
      "C:\\Users\\ruggieri\\AppData\\Local\\Temp\\ipykernel_19436\\3957971674.py:9: MatplotlibDeprecationWarning: Auto-removal of grids by pcolor() and pcolormesh() is deprecated since 3.5 and will be removed two minor releases later; please call grid(False) first.\n",
      "  plt.colorbar(label=\"accuracy loss\", orientation=\"vertical\", shrink=.7)\n"
     ]
    },
    {
     "data": {
      "image/png": "[encoded data removed]",
      "text/plain": [
       "<Figure size 432x288 with 2 Axes>"
      ]
     },
     "metadata": {},
     "output_type": "display_data"
    }
   ],
   "source": [
    "plt.scatter(xs, ys, c =acs, linewidths = .5, marker =\"o\", cmap=\"RdYlBu_r\", s=20)\n",
    "plt.xlabel(\"EOP before\", fontweight=\"bold\")\n",
    "plt.ylabel(\"EOP after\", fontweight=\"bold\")\n",
    "plt.xlim([-1, 1])\n",
    "plt.ylim([-1, 1])\n",
    "plt.axline((0, 0), (1, 1), linewidth=1.5, color='r')\n",
    "plt.axline((0, 0), (0, 1), linewidth=1, color='black')\n",
    "plt.axline((0, 0), (1, 0), linewidth=1, color='black')\n",
    "plt.colorbar(label=\"accuracy loss\", orientation=\"vertical\", shrink=.7)\n",
    "#plt.clim(-.1,.1)\n",
    "#plt.savefig('fig1.pdf', bbox_inches='tight', dpi=400)\n",
    "plt.show()"
   ]
  },
  {
   "cell_type": "code",
   "execution_count": 82,
   "metadata": {},
   "outputs": [
    {
     "data": {
      "text/plain": [
       "RAC1P\n",
       "0.0    0.378105\n",
       "1.0    0.354995\n",
       "2.0    0.422222\n",
       "3.0   -0.310836\n",
       "4.0    0.348295\n",
       "5.0    0.281797\n",
       "6.0     0.41572\n",
       "7.0    0.153903\n",
       "8.0   -0.014697\n",
       "Name: true_positive_rate, dtype: object"
      ]
     },
     "execution_count": 82,
     "metadata": {},
     "output_type": "execute_result"
    }
   ],
   "source": [
    "y_pred_r = encoders['class'].transform(census_test_r['pred_b'])\n",
    "y_test_r = encoders['class'].transform(census_test_r['class'])\n",
    "X_test_r = X_test.iloc[sel,:]\n",
    "summary_r = MetricFrame(metrics=true_positive_rate,\n",
    "                          y_true=y_test_r,\n",
    "                          y_pred=y_pred_r,\n",
    "                          sensitive_features=X_test_r['RAC1P'])\n",
    "summary_r.overall-summary_r.by_group"
   ]
  },
  {
   "cell_type": "code",
   "execution_count": 83,
   "metadata": {},
   "outputs": [
    {
     "data": {
      "image/png": "[encoded data removed]",
      "text/plain": [
       "<Figure size 432x288 with 1 Axes>"
      ]
     },
     "metadata": {},
     "output_type": "display_data"
    }
   ],
   "source": [
    "X_axis = np.arange(len(pretty_rac1p))\n",
    "plt.bar(X_axis - 0.45, summary_b.overall-summary_b.by_group, 0.3, label='EOP before')\n",
    "plt.bar(X_axis - 0.15, summary_a.overall-summary_a.by_group, 0.3, label='EOP after')\n",
    "plt.bar(X_axis + 0.15, summary_r.overall-summary_r.by_group, 0.3, label='EOP correction')\n",
    "plt.xticks(X_axis, pretty_rac1p)\n",
    "plt.xticks(rotation=90)\n",
    "plt.legend(loc=4)\n",
    "plt.ylabel(\"EOP\", fontweight=\"bold\")\n",
    "#plt.savefig('fig0.pdf', bbox_inches='tight', dpi=400)\n",
    "plt.show()"
   ]
  },
  {
   "cell_type": "code",
   "execution_count": null,
   "metadata": {},
   "outputs": [],
   "source": []
  },
  {
   "cell_type": "code",
   "execution_count": null,
   "metadata": {},
   "outputs": [],
   "source": []
  }
 ],
 "metadata": {
  "kernelspec": {
   "display_name": "Python 3 (ipykernel)",
   "language": "python",
   "name": "python3"
  },
  "language_info": {
   "codemirror_mode": {
    "name": "ipython",
    "version": 3
   },
   "file_extension": ".py",
   "mimetype": "text/x-python",
   "name": "python",
   "nbconvert_exporter": "python",
   "pygments_lexer": "ipython3",
   "version": "3.9.12"
  }
 },
 "nbformat": 4,
 "nbformat_minor": 2
}
